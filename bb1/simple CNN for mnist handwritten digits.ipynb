{
 "cells": [
  {
   "cell_type": "code",
   "execution_count": 1,
   "metadata": {},
   "outputs": [
    {
     "name": "stderr",
     "output_type": "stream",
     "text": [
      "Using TensorFlow backend.\n"
     ]
    }
   ],
   "source": [
    "%matplotlib inline\n",
    "import matplotlib.pyplot as plt \n",
    "import numpy as np\n",
    "import pandas\n",
    "\n",
    "import keras\n",
    "from keras.layers import Dense, Activation, Conv2D, Dropout, Flatten, MaxPooling2D\n",
    "from keras.optimizers import Adam\n",
    "from keras.datasets import mnist\n",
    "from keras.models import Sequential\n",
    "from keras.utils import to_categorical\n",
    "\n"
   ]
  },
  {
   "cell_type": "code",
   "execution_count": 2,
   "metadata": {},
   "outputs": [],
   "source": [
    "(x_train, y_train), (x_test, y_test) = mnist.load_data()"
   ]
  },
  {
   "cell_type": "code",
   "execution_count": 3,
   "metadata": {},
   "outputs": [],
   "source": [
    "x0_train = x_train.copy()\n",
    "y0_train = y_train.copy()\n",
    "x0_test = x_test.copy()\n",
    "y0_test = y_test.copy()"
   ]
  },
  {
   "cell_type": "code",
   "execution_count": 4,
   "metadata": {},
   "outputs": [],
   "source": [
    "x_train = x_train/x_train.max()\n",
    "x_test = x_test/x_test.max()"
   ]
  },
  {
   "cell_type": "code",
   "execution_count": 5,
   "metadata": {},
   "outputs": [],
   "source": [
    "for i in range(len(y_train)):\n",
    "    if y_train[i] %2 == 0:\n",
    "        y_train[i]=0\n",
    "    else :\n",
    "        y_train[i]=1\n",
    "        \n",
    "for j in range(len(y_test)):\n",
    "    if y_test[j] %2 == 0:\n",
    "        y_test[j]=0\n",
    "    else :\n",
    "        y_test[j]=1\n"
   ]
  },
  {
   "cell_type": "code",
   "execution_count": 6,
   "metadata": {},
   "outputs": [
    {
     "name": "stdout",
     "output_type": "stream",
     "text": [
      "[1 0 1 ... 0 1 0]\n",
      "[7 2 1 ... 4 5 6]\n",
      "[1 0 0 ... 1 0 0]\n",
      "[5 0 4 ... 5 6 8]\n"
     ]
    }
   ],
   "source": [
    "print (y_test)\n",
    "print (y0_test)\n",
    "print (y_train)\n",
    "print (y0_train)"
   ]
  },
  {
   "cell_type": "code",
   "execution_count": 7,
   "metadata": {},
   "outputs": [],
   "source": [
    "y_train = to_categorical(y_train, 2)\n",
    "y_test = to_categorical(y_test, 2)"
   ]
  },
  {
   "cell_type": "code",
   "execution_count": 8,
   "metadata": {},
   "outputs": [],
   "source": [
    "x_train = x_train.reshape((x_train.shape[0], 28, 28, -1))\n",
    "x_test = x_test.reshape((x_test.shape[0], 28, 28, -1))\n"
   ]
  },
  {
   "cell_type": "code",
   "execution_count": 9,
   "metadata": {},
   "outputs": [
    {
     "data": {
      "text/plain": [
       "(10000, 2)"
      ]
     },
     "execution_count": 9,
     "metadata": {},
     "output_type": "execute_result"
    }
   ],
   "source": [
    "y_test.shape"
   ]
  },
  {
   "cell_type": "code",
   "execution_count": 10,
   "metadata": {},
   "outputs": [
    {
     "name": "stdout",
     "output_type": "stream",
     "text": [
      "x_train : 60000 pics, 28 x 28 x 1\n",
      "y_train : 60000 answers, 1 x 2\n",
      "x_test : 10000 pics, 28 x 28 x 1\n",
      "y_test : 10000 answers, 1 x 2\n"
     ]
    }
   ],
   "source": [
    "print (\"x_train : %d pics, %d x %d x %d\" %x_train.shape)\n",
    "print (\"y_train : %d answers, 1 x %d\" %y_train.shape)\n",
    "print (\"x_test : %d pics, %d x %d x %d\" %x_test.shape)\n",
    "print (\"y_test : %d answers, 1 x %d\" %y_test.shape)"
   ]
  },
  {
   "cell_type": "code",
   "execution_count": 11,
   "metadata": {},
   "outputs": [],
   "source": [
    "model = Sequential()\n",
    "\n",
    "model.add(Conv2D(kernel_initializer=\"random_uniform\", bias_initializer=\"zeros\", activation=\"relu\", padding=\"same\", filters=3, kernel_size=4,  input_shape=(28, 28, 1), name=\"1layer\"))\n",
    "model.add(MaxPooling2D((2, 2), padding=\"same\", name=\"2layer\"))\n",
    "model.add(Flatten(name=\"3layer\"))\n",
    "model.add(Dense(units=2, activation=\"relu\", name=\"4layer\"))\n",
    "\n",
    "model.compile(loss=\"binary_crossentropy\", metrics=[\"acc\"], optimizer=Adam())"
   ]
  },
  {
   "cell_type": "code",
   "execution_count": 12,
   "metadata": {},
   "outputs": [
    {
     "name": "stdout",
     "output_type": "stream",
     "text": [
      "_________________________________________________________________\n",
      "Layer (type)                 Output Shape              Param #   \n",
      "=================================================================\n",
      "1layer (Conv2D)              (None, 28, 28, 3)         51        \n",
      "_________________________________________________________________\n",
      "2layer (MaxPooling2D)        (None, 14, 14, 3)         0         \n",
      "_________________________________________________________________\n",
      "3layer (Flatten)             (None, 588)               0         \n",
      "_________________________________________________________________\n",
      "4layer (Dense)               (None, 2)                 1178      \n",
      "=================================================================\n",
      "Total params: 1,229\n",
      "Trainable params: 1,229\n",
      "Non-trainable params: 0\n",
      "_________________________________________________________________\n"
     ]
    }
   ],
   "source": [
    "model.summary()"
   ]
  },
  {
   "cell_type": "code",
   "execution_count": 13,
   "metadata": {},
   "outputs": [
    {
     "name": "stdout",
     "output_type": "stream",
     "text": [
      "Epoch 1/20\n",
      "60000/60000 [==============================] - 17s 283us/step - loss: 0.4367 - acc: 0.8186\n",
      "Epoch 2/20\n",
      "60000/60000 [==============================] - 16s 271us/step - loss: 0.3305 - acc: 0.8709\n",
      "Epoch 3/20\n",
      "60000/60000 [==============================] - 16s 272us/step - loss: 0.3458 - acc: 0.8679\n",
      "Epoch 4/20\n",
      "60000/60000 [==============================] - 17s 276us/step - loss: 0.6112 - acc: 0.8110\n",
      "Epoch 5/20\n",
      "60000/60000 [==============================] - 17s 283us/step - loss: 0.2993 - acc: 0.8635\n",
      "Epoch 6/20\n",
      "60000/60000 [==============================] - 18s 307us/step - loss: 0.2560 - acc: 0.87424s - loss: 0.2607 - acc:  - ETA: 3s -\n",
      "Epoch 7/20\n",
      "60000/60000 [==============================] - 17s 291us/step - loss: 0.2719 - acc: 0.8718\n",
      "Epoch 8/20\n",
      "60000/60000 [==============================] - 17s 292us/step - loss: 0.2360 - acc: 0.8874\n",
      "Epoch 9/20\n",
      "60000/60000 [==============================] - 19s 311us/step - loss: 0.2277 - acc: 0.87992s - loss: 0.22 - ETA: 1s - loss: \n",
      "Epoch 10/20\n",
      "60000/60000 [==============================] - 18s 300us/step - loss: 0.2244 - acc: 0.8761\n",
      "Epoch 11/20\n",
      "60000/60000 [==============================] - 19s 323us/step - loss: 0.2101 - acc: 0.88543s - loss\n",
      "Epoch 12/20\n",
      "60000/60000 [==============================] - 17s 291us/step - loss: 0.2004 - acc: 0.85231s - lo\n",
      "Epoch 13/20\n",
      "60000/60000 [==============================] - 17s 291us/step - loss: 0.1941 - acc: 0.8816\n",
      "Epoch 14/20\n",
      "60000/60000 [==============================] - 18s 296us/step - loss: 0.2371 - acc: 0.85951s -\n",
      "Epoch 15/20\n",
      "60000/60000 [==============================] - 19s 310us/step - loss: 0.2006 - acc: 0.8696\n",
      "Epoch 16/20\n",
      "60000/60000 [==============================] - 18s 304us/step - loss: 0.1729 - acc: 0.8556\n",
      "Epoch 17/20\n",
      "60000/60000 [==============================] - 19s 325us/step - loss: 0.2865 - acc: 0.8268\n",
      "Epoch 18/20\n",
      "60000/60000 [==============================] - 18s 296us/step - loss: 0.2543 - acc: 0.8554\n",
      "Epoch 19/20\n",
      "60000/60000 [==============================] - 17s 288us/step - loss: 0.1809 - acc: 0.8475\n",
      "Epoch 20/20\n",
      "60000/60000 [==============================] - 17s 283us/step - loss: 0.1654 - acc: 0.8406\n"
     ]
    },
    {
     "data": {
      "text/plain": [
       "<keras.callbacks.History at 0x1797a503ba8>"
      ]
     },
     "execution_count": 13,
     "metadata": {},
     "output_type": "execute_result"
    }
   ],
   "source": [
    "model.fit(x_train, y_train, batch_size=64, epochs=20, shuffle=True)"
   ]
  },
  {
   "cell_type": "code",
   "execution_count": 14,
   "metadata": {},
   "outputs": [
    {
     "name": "stdout",
     "output_type": "stream",
     "text": [
      "10000/10000 [==============================] - 3s 258us/step\n"
     ]
    },
    {
     "data": {
      "text/plain": [
       "[0.14489167460426688, 0.8486]"
      ]
     },
     "execution_count": 14,
     "metadata": {},
     "output_type": "execute_result"
    }
   ],
   "source": [
    "model.evaluate(x_test, y_test)"
   ]
  },
  {
   "cell_type": "code",
   "execution_count": 15,
   "metadata": {},
   "outputs": [
    {
     "name": "stdout",
     "output_type": "stream",
     "text": [
      "60000/60000 [==============================] - 16s 270us/step\n"
     ]
    },
    {
     "data": {
      "text/plain": [
       "[0.1563074635763963, 0.8476166666666667]"
      ]
     },
     "execution_count": 15,
     "metadata": {},
     "output_type": "execute_result"
    }
   ],
   "source": [
    "model.evaluate(x_train, y_train)"
   ]
  },
  {
   "cell_type": "code",
   "execution_count": null,
   "metadata": {},
   "outputs": [],
   "source": []
  }
 ],
 "metadata": {
  "kernelspec": {
   "display_name": "Python 3",
   "language": "python",
   "name": "python3"
  },
  "language_info": {
   "codemirror_mode": {
    "name": "ipython",
    "version": 3
   },
   "file_extension": ".py",
   "mimetype": "text/x-python",
   "name": "python",
   "nbconvert_exporter": "python",
   "pygments_lexer": "ipython3",
   "version": "3.6.0"
  }
 },
 "nbformat": 4,
 "nbformat_minor": 2
}
